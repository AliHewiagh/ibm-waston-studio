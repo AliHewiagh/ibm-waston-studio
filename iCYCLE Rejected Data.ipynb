{
    "cells": [
        {
            "metadata": {},
            "cell_type": "markdown",
            "source": "# Covid-19 Data"
        },
        {
            "metadata": {},
            "cell_type": "code",
            "source": "\nimport ibmos2spark\n# @hidden_cell\ncredentials = {\n    'endpoint': 'https://s3.ap-geo.objectstorage.service.networklayer.com',\n    'service_id': 'iam-ServiceId-f70c4635-d175-4b49-96dc-5d05b3e16cf4',\n    'iam_service_endpoint': 'https://iam.cloud.ibm.com/oidc/token',\n    'api_key': 'BKgQtozPsNkqcYOV1mahMGPa8O_DaOgbyuiKCvw6b78d'\n}\n\nconfiguration_name = 'os_26a786327a7c4894a759af91def00913_configs'\ncos = ibmos2spark.CloudObjectStorage(sc, credentials, configuration_name, 'bluemix_cos')\n\nfrom pyspark.sql import SparkSession\nspark = SparkSession.builder.getOrCreate()\ndf_data_1 = spark.read\\\n  .format('org.apache.spark.sql.execution.datasources.csv.CSVFileFormat')\\\n  .option('header', 'true')\\\n  .load(cos.url('covid_19_data.csv', 'notebookjupyter-donotdelete-pr-svu5wpiv6phpix'))\ndf_data_1.take(10)\n",
            "execution_count": 4,
            "outputs": [
                {
                    "output_type": "execute_result",
                    "execution_count": 4,
                    "data": {
                        "text/plain": "[Row(SNo='1', ObservationDate='01/22/2020', Province/State='Anhui', Country/Region='Mainland China', Last Update='1/22/2020 17:00', Confirmed='1.0', Deaths='0.0', Recovered='0.0'),\n Row(SNo='2', ObservationDate='01/22/2020', Province/State='Beijing', Country/Region='Mainland China', Last Update='1/22/2020 17:00', Confirmed='14.0', Deaths='0.0', Recovered='0.0'),\n Row(SNo='3', ObservationDate='01/22/2020', Province/State='Chongqing', Country/Region='Mainland China', Last Update='1/22/2020 17:00', Confirmed='6.0', Deaths='0.0', Recovered='0.0'),\n Row(SNo='4', ObservationDate='01/22/2020', Province/State='Fujian', Country/Region='Mainland China', Last Update='1/22/2020 17:00', Confirmed='1.0', Deaths='0.0', Recovered='0.0'),\n Row(SNo='5', ObservationDate='01/22/2020', Province/State='Gansu', Country/Region='Mainland China', Last Update='1/22/2020 17:00', Confirmed='0.0', Deaths='0.0', Recovered='0.0'),\n Row(SNo='6', ObservationDate='01/22/2020', Province/State='Guangdong', Country/Region='Mainland China', Last Update='1/22/2020 17:00', Confirmed='26.0', Deaths='0.0', Recovered='0.0'),\n Row(SNo='7', ObservationDate='01/22/2020', Province/State='Guangxi', Country/Region='Mainland China', Last Update='1/22/2020 17:00', Confirmed='2.0', Deaths='0.0', Recovered='0.0'),\n Row(SNo='8', ObservationDate='01/22/2020', Province/State='Guizhou', Country/Region='Mainland China', Last Update='1/22/2020 17:00', Confirmed='1.0', Deaths='0.0', Recovered='0.0'),\n Row(SNo='9', ObservationDate='01/22/2020', Province/State='Hainan', Country/Region='Mainland China', Last Update='1/22/2020 17:00', Confirmed='4.0', Deaths='0.0', Recovered='0.0'),\n Row(SNo='10', ObservationDate='01/22/2020', Province/State='Hebei', Country/Region='Mainland China', Last Update='1/22/2020 17:00', Confirmed='1.0', Deaths='0.0', Recovered='0.0')]"
                    },
                    "metadata": {}
                }
            ]
        },
        {
            "metadata": {},
            "cell_type": "code",
            "source": "",
            "execution_count": null,
            "outputs": []
        }
    ],
    "metadata": {
        "kernelspec": {
            "name": "python36",
            "display_name": "Python 3.6 with Spark",
            "language": "python3"
        },
        "language_info": {
            "mimetype": "text/x-python",
            "nbconvert_exporter": "python",
            "name": "python",
            "pygments_lexer": "ipython3",
            "version": "3.6.10",
            "file_extension": ".py",
            "codemirror_mode": {
                "version": 3,
                "name": "ipython"
            }
        }
    },
    "nbformat": 4,
    "nbformat_minor": 1
}
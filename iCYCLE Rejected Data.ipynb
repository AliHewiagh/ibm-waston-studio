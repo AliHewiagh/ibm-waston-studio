{
    "cells": [
        {
            "cell_type": "code",
            "execution_count": 1,
            "metadata": {},
            "outputs": [
                {
                    "name": "stdout",
                    "output_type": "stream",
                    "text": "Waiting for a Spark session to start...\nSpark Initialization Done! ApplicationId = app-20201001042709-0000\nKERNEL_ID = beb18b29-eb09-40ca-810f-4ea1af9890be\n"
                },
                {
                    "data": {
                        "text/plain": "[Row(transaction_id='5f23ceb29960add75f467df1', status='rejected', user_id='DLXyXLfstw', user_email='steve@icycle-global.com', user_country='malaysia', user_joining_date='2017-02-12', bin_name='Kechara-KSK5-KL', bin_id='NQ1UOYZ5su', bin_location_lat='101.658413', bin_location_lng='3.140852', collection_date='2019-11-24', updating_date='2019-11-28', item_name='wire/ cable', item_id='wzqrKOdU48', item_multiplier='3', recyling_points='49.473600852944806', item_weight='16.491200284314935', number_of_items=None, user_client=None, updated_by=None),\n Row(transaction_id='5f23ceb29960add75f467df2', status='rejected', user_id='TTMfKELfva', user_email='icyclemsc@icycle-global.com', user_country='malaysia', user_joining_date='2016-07-18', bin_name='Kechara-Daily Choize 1-KL', bin_id='hALwloCV2t', bin_location_lat='101.695019', bin_location_lng='3.069424', collection_date='2019-09-24', updating_date='2019-10-02', item_name='printer, scanner, accessory', item_id='CH0MK3g4HX', item_multiplier='2.5', recyling_points='50.215395561818816', item_weight='20.086158224727527', number_of_items=None, user_client=None, updated_by=None),\n Row(transaction_id='5f23ceb29960add75f467df3', status='rejected', user_id='r1X7LXkDzH', user_email='ziyad@icycle-global.com', user_country=None, user_joining_date='2018-03-17', bin_name='Loreal-5-KL', bin_id='5b3f73d4367bb52aa841ed46', bin_location_lat='101.623592', bin_location_lng='3.136518', collection_date='2019-10-11', updating_date='2019-10-14', item_name='Other textiles', item_id='mkveivnV2l', item_multiplier='0', recyling_points='0', item_weight='12.487405656575135', number_of_items=None, user_client=None, updated_by=None),\n Row(transaction_id='5f23ceb29960add75f467df4', status='rejected', user_id='p9jWNGTmsM', user_email='jason@icycle-global.com', user_country=None, user_joining_date='2018-06-04', bin_name='Kechara-KSK5-KL', bin_id='NQ1UOYZ5su', bin_location_lat='101.658413', bin_location_lng='3.140852', collection_date='2020-02-24', updating_date='2020-03-03', item_name='glass bottle', item_id='rzsmVRPAFj', item_multiplier='0.3', recyling_points='2.8083513226729053', item_weight='9.361171075576351', number_of_items=None, user_client=None, updated_by=None),\n Row(transaction_id='5f23ceb29960add75f467df5', status='rejected', user_id='5b4d86ecfc70be67f375ca4a', user_email='ali@icycle-global.com', user_country=None, user_joining_date=None, bin_name='Fairview International School-KL', bin_id='oHmzD8u0j1', bin_location_lat='101.75216', bin_location_lng='3.195756', collection_date='2019-09-28', updating_date='2019-09-30', item_name='fl/cfl', item_id='6esykwEYem', item_multiplier='0', recyling_points='0', item_weight='8.546982679940456', number_of_items=None, user_client=None, updated_by=None)]"
                    },
                    "execution_count": 1,
                    "metadata": {},
                    "output_type": "execute_result"
                }
            ],
            "source": "# The code was removed by Watson Studio for sharing."
        },
        {
            "cell_type": "code",
            "execution_count": null,
            "metadata": {},
            "outputs": [],
            "source": ""
        }
    ],
    "metadata": {
        "kernelspec": {
            "display_name": "Python 3.6 with Spark",
            "language": "python3",
            "name": "python36"
        },
        "language_info": {
            "codemirror_mode": {
                "name": "ipython",
                "version": 3
            },
            "file_extension": ".py",
            "mimetype": "text/x-python",
            "name": "python",
            "nbconvert_exporter": "python",
            "pygments_lexer": "ipython3",
            "version": "3.6.10"
        }
    },
    "nbformat": 4,
    "nbformat_minor": 1
}